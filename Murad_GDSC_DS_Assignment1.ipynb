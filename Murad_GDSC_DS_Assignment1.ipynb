{
  "cells": [
    {
      "cell_type": "markdown",
      "metadata": {
        "id": "view-in-github",
        "colab_type": "text"
      },
      "source": [
        "<a href=\"https://colab.research.google.com/github/Murad-pitafi/Data_science/blob/main/Murad_GDSC_DS_Assignment1.ipynb\" target=\"_parent\"><img src=\"https://colab.research.google.com/assets/colab-badge.svg\" alt=\"Open In Colab\"/></a>"
      ]
    },
    {
      "cell_type": "markdown",
      "metadata": {
        "id": "5D4dke3I_qqz"
      },
      "source": [
        "## <font color=orange><b>GDSC DATA SCIENCE </b></font>\n",
        "\n",
        "## Numpy and Pandas Assignment\n",
        "\n",
        "### <font color=red>Numpy Tasks</font>"
      ]
    },
    {
      "cell_type": "code",
      "execution_count": null,
      "metadata": {
        "id": "B40OmOow_qrI",
        "colab": {
          "base_uri": "https://localhost:8080/"
        },
        "outputId": "250fd000-b628-4fc1-ba3d-211778b93341"
      },
      "outputs": [
        {
          "output_type": "stream",
          "name": "stdout",
          "text": [
            "1.22.4\n"
          ]
        }
      ],
      "source": [
        "# Import the numpy package under the name np\n",
        "import numpy as np\n",
        "\n",
        "# Print the numpy version and the configuration\n",
        "print(np.__version__)"
      ]
    },
    {
      "cell_type": "markdown",
      "metadata": {
        "id": "op0EqX6t_qrN"
      },
      "source": [
        "### Create a numpy array of size 10, filled with zeros."
      ]
    },
    {
      "cell_type": "code",
      "execution_count": null,
      "metadata": {
        "id": "RkhUS1EE_qrP",
        "colab": {
          "base_uri": "https://localhost:8080/"
        },
        "outputId": "e0551e42-c265-4f14-f06e-c0113cf5fea9"
      },
      "outputs": [
        {
          "output_type": "stream",
          "name": "stdout",
          "text": [
            "[0. 0. 0. 0. 0. 0. 0. 0. 0. 0.]\n"
          ]
        }
      ],
      "source": [
        "# your code goes here\n",
        "arr = np.zeros(10)\n",
        "print(arr)"
      ]
    },
    {
      "cell_type": "markdown",
      "metadata": {
        "id": "jxw61oXW_qrR"
      },
      "source": [
        "### Create a numpy matrix of 2*2 integers, filled with ones."
      ]
    },
    {
      "cell_type": "code",
      "execution_count": null,
      "metadata": {
        "id": "Z0eWz1a3_qrS",
        "colab": {
          "base_uri": "https://localhost:8080/"
        },
        "outputId": "7dc031ea-3cc2-4074-8a77-525b6618b9cb"
      },
      "outputs": [
        {
          "output_type": "stream",
          "name": "stdout",
          "text": [
            "[[1 1]\n",
            " [1 1]]\n"
          ]
        }
      ],
      "source": [
        "# your code goes here\n",
        "arr = np.ones((2,2), dtype=int)\n",
        "print(arr)"
      ]
    },
    {
      "cell_type": "markdown",
      "metadata": {
        "id": "GS9rpjIV_qrV"
      },
      "source": [
        "### Given the X numpy array, create a new numpy array with the same shape and type as X, filled with ones."
      ]
    },
    {
      "cell_type": "code",
      "execution_count": null,
      "metadata": {
        "id": "TO-1wull_qrY",
        "colab": {
          "base_uri": "https://localhost:8080/"
        },
        "outputId": "26b6ec08-1207-44df-a8c8-ffc51c890ff2"
      },
      "outputs": [
        {
          "output_type": "stream",
          "name": "stdout",
          "text": [
            "[[1 1 1]\n",
            " [1 1 1]]\n"
          ]
        }
      ],
      "source": [
        "# your code goes here\n",
        "arr = np.array([[1,3,5],[5,3,7]])\n",
        "ones_like = np.ones_like(arr)\n",
        "print(ones_like)"
      ]
    },
    {
      "cell_type": "markdown",
      "metadata": {
        "id": "qQdvPKnb_qra"
      },
      "source": [
        "### Given the X numpy matrix, create a new numpy matrix with the same shape and type as X, filled with zeros."
      ]
    },
    {
      "cell_type": "code",
      "execution_count": null,
      "metadata": {
        "id": "r924PwBt_qrc",
        "colab": {
          "base_uri": "https://localhost:8080/"
        },
        "outputId": "9418bb0f-91da-4114-b437-ec17eed618f9"
      },
      "outputs": [
        {
          "output_type": "stream",
          "name": "stdout",
          "text": [
            "[[0 0]\n",
            " [0 0]]\n"
          ]
        }
      ],
      "source": [
        "# your code goes here\n",
        "\n",
        "matrx = np.matrix([[1, 2], [3, 4]])\n",
        "zeros_matrix = np.zeros_like(matrx)\n",
        "\n",
        "print(zeros_matrix)\n"
      ]
    },
    {
      "cell_type": "markdown",
      "metadata": {
        "id": "3rs-HNhJ_qre"
      },
      "source": [
        "### Create a numpy matrix of 4*4 integers, filled with fives."
      ]
    },
    {
      "cell_type": "code",
      "execution_count": null,
      "metadata": {
        "id": "NJA4krG2_qrf",
        "colab": {
          "base_uri": "https://localhost:8080/"
        },
        "outputId": "a3c5c62f-dfc1-45b6-fce7-bea3d827b88f"
      },
      "outputs": [
        {
          "output_type": "stream",
          "name": "stdout",
          "text": [
            "[[5 5 5 5]\n",
            " [5 5 5 5]\n",
            " [5 5 5 5]\n",
            " [5 5 5 5]]\n"
          ]
        }
      ],
      "source": [
        "# your code goes here\n",
        "mtrx = np.matrix(np.ones((4,4), dtype=int)*5)\n",
        "print(mtrx)"
      ]
    },
    {
      "cell_type": "markdown",
      "metadata": {
        "id": "bp-y6FLd_qrg"
      },
      "source": [
        "### Create a 3*3 numpy matrix, filled with values ranging from 0 to 8"
      ]
    },
    {
      "cell_type": "code",
      "execution_count": null,
      "metadata": {
        "id": "Dstnoy8D_qrh",
        "colab": {
          "base_uri": "https://localhost:8080/"
        },
        "outputId": "5aa62201-31a6-402d-b850-83578396dde7"
      },
      "outputs": [
        {
          "output_type": "stream",
          "name": "stdout",
          "text": [
            "[[0 1 2]\n",
            " [3 4 5]\n",
            " [6 7 8]]\n"
          ]
        }
      ],
      "source": [
        "# your code goes here\n",
        "\n",
        "zero_8 = np.arange(9)\n",
        "mat = np.reshape(zero_8, (3,3))\n",
        "print(mat)"
      ]
    },
    {
      "cell_type": "markdown",
      "metadata": {
        "id": "z1uD5iTc_qri"
      },
      "source": [
        "## Create an array from 1 to 10 and return the index of the numbers greater than 5."
      ]
    },
    {
      "cell_type": "code",
      "execution_count": null,
      "metadata": {
        "id": "ti_ArISQ_qrj",
        "colab": {
          "base_uri": "https://localhost:8080/"
        },
        "outputId": "8c66ee10-ad97-4d50-aa70-273da9869129"
      },
      "outputs": [
        {
          "output_type": "stream",
          "name": "stdout",
          "text": [
            "(array([5, 6, 7, 8, 9]),)\n"
          ]
        }
      ],
      "source": [
        "# your code goes here\n",
        "one_ten = np.arange(1,11)\n",
        "print(np.where(one_ten > 5))\n"
      ]
    },
    {
      "cell_type": "markdown",
      "source": [
        "## How to convert a float (32 bits) array into an integer (32 bits) in place?"
      ],
      "metadata": {
        "id": "LHrS65ufDZlD"
      }
    },
    {
      "cell_type": "code",
      "source": [
        "# your code goes here\n",
        "float32 = np.array([3.4,5.2,5.3], dtype = np.float32)\n",
        "int32 = float32.view(dtype=np.int32)\n",
        "#print(int32)\n",
        "int32+=1 #in place\n",
        "print(int32)\n"
      ],
      "metadata": {
        "id": "Kkygc1q1DbaB",
        "colab": {
          "base_uri": "https://localhost:8080/"
        },
        "outputId": "32f7c68b-bdfd-49cd-8fad-718fd84924e3"
      },
      "execution_count": null,
      "outputs": [
        {
          "output_type": "stream",
          "name": "stdout",
          "text": [
            "[1079613851 1084647015 1084856731]\n"
          ]
        }
      ]
    },
    {
      "cell_type": "markdown",
      "source": [
        "##  How to swap two rows of an array?"
      ],
      "metadata": {
        "id": "c8PTWNrxDfs6"
      }
    },
    {
      "cell_type": "code",
      "source": [
        "# your code goes here\n",
        "arr=np.arange(1,10)\n",
        "mat = np.reshape(arr, (3,3))\n",
        "print('original')\n",
        "print(mat)\n",
        "mat[[0, 1], :] = mat[[1, 0], :]\n",
        "print(\"after swapping\")\n",
        "print(mat)"
      ],
      "metadata": {
        "id": "s3N8858cDgBt",
        "colab": {
          "base_uri": "https://localhost:8080/"
        },
        "outputId": "d85b09c9-9ff3-4a70-a69d-ee0d8fa934ad"
      },
      "execution_count": null,
      "outputs": [
        {
          "output_type": "stream",
          "name": "stdout",
          "text": [
            "original\n",
            "[[1 2 3]\n",
            " [4 5 6]\n",
            " [7 8 9]]\n",
            "after swapping\n",
            "[[4 5 6]\n",
            " [1 2 3]\n",
            " [7 8 9]]\n"
          ]
        }
      ]
    },
    {
      "cell_type": "markdown",
      "source": [
        "## Create a 3x3 matrix and compute it's rank?"
      ],
      "metadata": {
        "id": "GG4LVoPTDgKP"
      }
    },
    {
      "cell_type": "code",
      "source": [
        "# your code goes here\n",
        "rank = np.linalg.matrix_rank(np.array([[1,3],[4,5]])) # done by using linear Algebra module of numpy\n",
        "print(rank)"
      ],
      "metadata": {
        "id": "1IAb73eJDgSm",
        "colab": {
          "base_uri": "https://localhost:8080/"
        },
        "outputId": "7db31098-770a-4c59-dd76-f26530ebecda"
      },
      "execution_count": null,
      "outputs": [
        {
          "output_type": "stream",
          "name": "stdout",
          "text": [
            "2\n"
          ]
        }
      ]
    },
    {
      "cell_type": "markdown",
      "source": [
        "## Create two points and calculate the Euclidean distance between them using NumPy?"
      ],
      "metadata": {
        "id": "JUR6nE-YDgbg"
      }
    },
    {
      "cell_type": "code",
      "source": [
        "# your code goes here\n",
        "point1 = np.arange(1,4)\n",
        "point2 = np.arange(4,7)\n",
        "Euclidean_dist= np.linalg.norm(point1-point2)\n",
        "print(\"Euclidean distance is = \", Euclidean_dist)\n"
      ],
      "metadata": {
        "id": "-mqOLc2zDgjS",
        "colab": {
          "base_uri": "https://localhost:8080/"
        },
        "outputId": "2cd0d923-7079-401b-fc47-4b82453e225c"
      },
      "execution_count": null,
      "outputs": [
        {
          "output_type": "stream",
          "name": "stdout",
          "text": [
            "Euclidean distance is =  5.196152422706632\n"
          ]
        }
      ]
    },
    {
      "cell_type": "markdown",
      "source": [
        "## Create a Matrix(3,3) of random values from a Gaussian distribution?"
      ],
      "metadata": {
        "id": "N1I2ltiGDgrU"
      }
    },
    {
      "cell_type": "code",
      "source": [
        "# your code goes here\n",
        "mat = np.random.normal(size=(3,3)) # Gaussian Distribution or Normal Distribution\n",
        "print(mat)"
      ],
      "metadata": {
        "id": "9A-swT36Dgza",
        "colab": {
          "base_uri": "https://localhost:8080/"
        },
        "outputId": "a28b1f4d-81d4-4690-e18d-8c04449534be"
      },
      "execution_count": null,
      "outputs": [
        {
          "output_type": "stream",
          "name": "stdout",
          "text": [
            "[[ 0.0879304   0.26099284  0.72048763]\n",
            " [ 0.608161   -1.01191277  1.6975242 ]\n",
            " [ 0.91098934  0.54070783  0.42314702]]\n"
          ]
        }
      ]
    },
    {
      "cell_type": "markdown",
      "source": [
        "### <font color=red>Pandas Tasks (Basic) </font>"
      ],
      "metadata": {
        "id": "PFYqmW70G7tx"
      }
    },
    {
      "cell_type": "markdown",
      "source": [
        "## Create a sample dataframe and swap two rows using pandas?"
      ],
      "metadata": {
        "id": "RjYmaOrkG8cE"
      }
    },
    {
      "cell_type": "code",
      "source": [
        "# your code goes here\n",
        "import pandas as pd\n",
        "df = pd.DataFrame({'c1':[1,3,4], 'c2':[4,5,3]})\n",
        "print(df) \n",
        "df.iloc[[0,2]] = df.iloc[[2,0]]\n",
        "print(\"after swaping\")\n",
        "print(df)"
      ],
      "metadata": {
        "id": "ERTb6GmTG8to",
        "colab": {
          "base_uri": "https://localhost:8080/"
        },
        "outputId": "95739f0b-53d0-4770-f330-9f0301ed437b"
      },
      "execution_count": null,
      "outputs": [
        {
          "output_type": "stream",
          "name": "stdout",
          "text": [
            "   c1  c2\n",
            "0   1   4\n",
            "1   3   5\n",
            "2   4   3\n",
            "after swaping\n",
            "   c1  c2\n",
            "0   4   3\n",
            "1   3   5\n",
            "2   1   4\n"
          ]
        }
      ]
    },
    {
      "cell_type": "markdown",
      "source": [
        "## Create 5 pandas series of integers and combine them to form pandas dataframe object?"
      ],
      "metadata": {
        "id": "ss7j3ClrG837"
      }
    },
    {
      "cell_type": "code",
      "source": [
        "# your code goes here\n",
        "\n",
        "s1 = pd.Series(np.random.randint(0,10, size = 3))\n",
        "s2 = pd.Series(np.random.randint(0,10, size = 3))\n",
        "s3 = pd.Series(np.random.randint(0,10, size = 3))\n",
        "s4 = pd.Series(np.random.randint(0,10, size = 3))\n",
        "s5 = pd.Series(np.random.randint(0,10, size = 3))\n",
        "df = pd.concat([s1,s2,s3,s4,s5], axis=1)\n",
        "print(df)  "
      ],
      "metadata": {
        "id": "QPJT7qv2G9BI",
        "colab": {
          "base_uri": "https://localhost:8080/"
        },
        "outputId": "9649a0df-5df0-4b99-b3ad-7c2caa9756c7"
      },
      "execution_count": null,
      "outputs": [
        {
          "output_type": "stream",
          "name": "stdout",
          "text": [
            "   0  1  2  3  4\n",
            "0  9  4  5  6  8\n",
            "1  6  4  5  3  0\n",
            "2  3  6  7  3  6\n"
          ]
        }
      ]
    },
    {
      "cell_type": "markdown",
      "source": [
        "## Create two sample series and stack them vertically and horizontally?"
      ],
      "metadata": {
        "id": "BnFXtYZxG9KM"
      }
    },
    {
      "cell_type": "code",
      "source": [
        "# your code goes here\n",
        "vertical_stack = pd.concat([s1,s2], axis=1) # axis 1 means whenever data will be entered it will be in columns, alternatively vertical\n",
        "horizontal_stack = pd.concat([s1,s2], axis=0) #axis 0 means whenever data will be entered it will be in rows, alternatively Horizontanlly\n",
        "print(\"veritcal stack \")\n",
        "print(vertical_stack)\n",
        "print(\"Horizontal stack\")\n",
        "print(horizontal_stack)"
      ],
      "metadata": {
        "id": "iklqVHoHG9S4",
        "colab": {
          "base_uri": "https://localhost:8080/"
        },
        "outputId": "a6785416-bd6d-421f-f4e1-70a27011e473"
      },
      "execution_count": null,
      "outputs": [
        {
          "output_type": "stream",
          "name": "stdout",
          "text": [
            "veritcal stack \n",
            "   0  1\n",
            "0  9  4\n",
            "1  6  4\n",
            "2  3  6\n",
            "Horizontal stack\n",
            "0    9\n",
            "1    6\n",
            "2    3\n",
            "0    4\n",
            "1    4\n",
            "2    6\n",
            "dtype: int64\n"
          ]
        }
      ]
    },
    {
      "cell_type": "markdown",
      "source": [
        "## Return the items of series A not present in series B?"
      ],
      "metadata": {
        "id": "bfk2XZcmG9bB"
      }
    },
    {
      "cell_type": "code",
      "source": [
        "# your code goes here\n",
        "sA = pd.Series(np.arange(1,6))\n",
        "sB = pd.Series(np.arange(3,8))\n",
        "mask = ~sA.isin(sB)\n",
        "result = sA[mask]\n",
        "print(result)"
      ],
      "metadata": {
        "id": "X6D7OJ56G9js",
        "colab": {
          "base_uri": "https://localhost:8080/"
        },
        "outputId": "75870314-5f66-4a07-b3ef-569e10dc4ffc"
      },
      "execution_count": null,
      "outputs": [
        {
          "output_type": "stream",
          "name": "stdout",
          "text": [
            "0    1\n",
            "1    2\n",
            "dtype: int64\n"
          ]
        }
      ]
    },
    {
      "cell_type": "markdown",
      "source": [
        "## Create a sample dataframe and change the order of columns? "
      ],
      "metadata": {
        "id": "v_Rsw9I2G9sJ"
      }
    },
    {
      "cell_type": "code",
      "source": [
        "# your code goes here\n",
        "df = pd.DataFrame({'c1': [1, 2,5], 'c2': [7, 4, 3], 'c3': [7, 7, 1]})\n",
        "print('Original')\n",
        "print(df)\n",
        "\n",
        "df = df[['c2', 'c3', 'c1']] # there can be multiple ways of changing order of column but here i have used technique of subseting columns\n",
        "\n",
        "print(\"after changing the column order\")\n",
        "print(df)\n"
      ],
      "metadata": {
        "id": "ntOK9W2_G-Ar",
        "colab": {
          "base_uri": "https://localhost:8080/"
        },
        "outputId": "941739f8-c32c-408f-ec5f-81f5172528db"
      },
      "execution_count": null,
      "outputs": [
        {
          "output_type": "stream",
          "name": "stdout",
          "text": [
            "Original\n",
            "   c1  c2  c3\n",
            "0   1   7   7\n",
            "1   2   4   7\n",
            "2   5   3   1\n",
            "after changing the column order\n",
            "   c2  c3  c1\n",
            "0   7   7   1\n",
            "1   4   7   2\n",
            "2   3   1   5\n"
          ]
        }
      ]
    },
    {
      "cell_type": "code",
      "source": [],
      "metadata": {
        "id": "S2Mm9x2ph94j"
      },
      "execution_count": null,
      "outputs": []
    }
  ],
  "metadata": {
    "kernelspec": {
      "display_name": "base",
      "language": "python",
      "name": "python3"
    },
    "language_info": {
      "codemirror_mode": {
        "name": "ipython",
        "version": 3
      },
      "file_extension": ".py",
      "mimetype": "text/x-python",
      "name": "python",
      "nbconvert_exporter": "python",
      "pygments_lexer": "ipython3",
      "version": "3.9.12"
    },
    "orig_nbformat": 4,
    "vscode": {
      "interpreter": {
        "hash": "15b6eb46025870888bcaa831565eda312d98f230e29fcc1c06a1c9096249353c"
      }
    },
    "colab": {
      "provenance": [],
      "include_colab_link": true
    }
  },
  "nbformat": 4,
  "nbformat_minor": 0
}