{
  "nbformat": 4,
  "nbformat_minor": 0,
  "metadata": {
    "colab": {
      "provenance": [],
      "authorship_tag": "ABX9TyOsHWxA/lP1QYIT8s7cU75M",
      "include_colab_link": true
    },
    "kernelspec": {
      "name": "python3",
      "display_name": "Python 3"
    },
    "language_info": {
      "name": "python"
    }
  },
  "cells": [
    {
      "cell_type": "markdown",
      "metadata": {
        "id": "view-in-github",
        "colab_type": "text"
      },
      "source": [
        "<a href=\"https://colab.research.google.com/github/Murad-pitafi/Data_science/blob/main/K213064_AI_Lab07.ipynb\" target=\"_parent\"><img src=\"https://colab.research.google.com/assets/colab-badge.svg\" alt=\"Open In Colab\"/></a>"
      ]
    },
    {
      "cell_type": "code",
      "execution_count": null,
      "metadata": {
        "id": "TVzIxBSKX5HD"
      },
      "outputs": [],
      "source": [
        "\n",
        "   "
      ]
    },
    {
      "cell_type": "code",
      "source": [
        "import math\n",
        "\n",
        "X = \"X\"\n",
        "O = \"O\"\n",
        "EMPTY = None\n",
        "\n",
        "class TicTacToe:\n",
        "    def __init__(self):\n",
        "        self.board = [[O, EMPTY, X],\n",
        "                      [X, EMPTY, EMPTY],\n",
        "                      [X, O, O]]\n",
        "        self.current_player = X\n",
        "        self.game_over = False\n",
        "\n",
        "    def play_game(self):\n",
        "        while not self.game_over:\n",
        "            self.print_board()\n",
        "\n",
        "            winner = self.get_winner()\n",
        "            if winner is not None:\n",
        "                print(f\"Player {winner} wins!\")\n",
        "                self.game_over = True\n",
        "                break\n",
        "            elif all(all(row) for row in self.board):\n",
        "                print(\"Tie game!\")\n",
        "                self.game_over = True\n",
        "                break\n",
        "\n",
        "            if self.current_player == X:\n",
        "                best_score = -math.inf\n",
        "                best_move = None\n",
        "                for i in range(3):\n",
        "                    for j in range(3):\n",
        "                        if self.board[i][j] == EMPTY:\n",
        "                            self.board[i][j] = X\n",
        "                            score = self.minimax(0, False)\n",
        "                            self.board[i][j] = EMPTY\n",
        "                            if score > best_score:\n",
        "                                best_score = score\n",
        "                                best_move = (i, j)\n",
        "                self.board[best_move[0]][best_move[1]] = X\n",
        "            else:\n",
        "                best_score = math.inf\n",
        "                best_move = None\n",
        "                for i in range(3):\n",
        "                    for j in range(3):\n",
        "                        if self.board[i][j] == EMPTY:\n",
        "                            self.board[i][j] = O\n",
        "                            score = self.minimax(0, True)\n",
        "                            self.board[i][j] = EMPTY\n",
        "                            if score < best_score:\n",
        "                                best_score = score\n",
        "                                best_move = (i, j)\n",
        "                self.board[best_move[0]][best_move[1]] = O\n",
        "\n",
        "            self.current_player = O if self.current_player == X else X\n",
        "\n",
        "    def minimax(self, depth, is_maximizing):\n",
        "        winner = self.get_winner()\n",
        "        if winner is not None:\n",
        "            return self.score(depth)\n",
        "\n",
        "        if is_maximizing:\n",
        "            best_score = -math.inf\n",
        "            for i in range(3):\n",
        "                for j in range(3):\n",
        "                    if self.board[i][j] == EMPTY:\n",
        "                        self.board[i][j] = X\n",
        "                        score = self.minimax(depth+1, False)\n",
        "                        self.board[i][j] = EMPTY\n",
        "                        best_score = max(score, best_score)\n",
        "            return best_score\n",
        "\n",
        "        else:\n",
        "            best_score = math.inf\n",
        "            for i in range(3):\n",
        "                for j in range(3):\n",
        "                    if self.board[i][j] == EMPTY:\n",
        "                        self.board[i][j] = O\n",
        "                        score = self.minimax(depth+1, True)\n",
        "                        self.board[i][j] = EMPTY\n",
        "                        best_score = min(score, best_score)\n",
        "            return best_score\n",
        "\n",
        "    def get_winner(self):\n",
        "        for i in range(3):\n",
        "            if self.board[i][0] == self.board[i][1] == self.board[i][2] != EMPTY:\n",
        "                return self.board[i][0]\n",
        "\n",
        "        for j in range(3):\n",
        "            if self.board[0][j] == self.board[1][j] == self.board[2][j] != EMPTY:\n",
        "                return self.board[0][j]\n",
        "\n",
        "        if self.board[0][0] == self.board[1][1] == self.board[2][2] != EMPTY:\n",
        "            return self.board[0][0]\n",
        "        if self.board[0][2] == self.board[1][1] == self.board[2][0] != EMPTY:\n",
        "            return self.board[0][2]\n",
        "\n",
        "        return None\n",
        "\n",
        "    def score(self, depth):\n",
        "        winner = self.get_winner()\n",
        "        if winner == X:\n",
        "            return 10 - depth\n",
        "        elif winner == O:\n",
        "            return depth - 10\n",
        "        else:\n",
        "            return 0\n",
        "\n",
        "    def print_board(self):\n",
        "        print(\"-------------\")\n",
        "        for row in self.board:\n",
        "            print(\"|\", end=\"\")\n",
        "            for cell in row:\n",
        "                if cell is None:\n",
        "                    print(\"   \", end=\"|\")\n",
        "                else:\n",
        "                    print(f\" {cell} \", end=\"|\")\n",
        "            print(\"\\n-------------\")\n",
        "\n",
        "game = TicTacToe()\n",
        "game.play_game()\n"
      ],
      "metadata": {
        "colab": {
          "base_uri": "https://localhost:8080/"
        },
        "id": "h2dJuegIDI9B",
        "outputId": "c1fb61fb-86d9-4296-d424-70d40f9909ae"
      },
      "execution_count": 5,
      "outputs": [
        {
          "output_type": "stream",
          "name": "stdout",
          "text": [
            "-------------\n",
            "| O |   | X |\n",
            "-------------\n",
            "| X |   |   |\n",
            "-------------\n",
            "| X | O | O |\n",
            "-------------\n",
            "-------------\n",
            "| O |   | X |\n",
            "-------------\n",
            "| X | X |   |\n",
            "-------------\n",
            "| X | O | O |\n",
            "-------------\n",
            "Player X wins!\n"
          ]
        }
      ]
    },
    {
      "cell_type": "code",
      "source": [
        "class Minimax:\n",
        "    def __init__(self, values):\n",
        "        self.values = values\n",
        "        self.max = 1000\n",
        "        self.min = -1000\n",
        "\n",
        "    def minimax(self, depth, nodeIndex, maximizingPlayer, alpha, beta):\n",
        "        # check for leaf node \n",
        "        if depth == 3:\n",
        "            return self.values[nodeIndex]\n",
        "\n",
        "        if maximizingPlayer: # for maximizer\n",
        "            best = self.min\n",
        "            for i in range(0, 2):\n",
        "                # left child, right child\n",
        "                val = self.minimax(depth + 1, nodeIndex * 2 + i, False, alpha, beta)\n",
        "                best = max(best, val)\n",
        "                alpha = max(alpha, best)\n",
        "\n",
        "                # Alpha Beta Pruning\n",
        "                if beta <= alpha:\n",
        "                    break\n",
        "\n",
        "            return best\n",
        "\n",
        "        else: # for minimizer\n",
        "            best = self.max\n",
        "            for i in range(0, 2):\n",
        "                # left child, right child\n",
        "                val = self.minimax(depth + 1, nodeIndex * 2 + i, True, alpha, beta)\n",
        "                best = min(best, val)\n",
        "                beta = min(beta, best)\n",
        "\n",
        "                # Alpha Beta Pruning\n",
        "                if beta <= alpha:\n",
        "                    break\n",
        "\n",
        "            return best\n",
        "\n",
        "    def get_optimal_value(self):\n",
        "        return self.minimax(0, 0, True, self.min, self.max)\n",
        "        \n",
        "values = [2, 4, 6, 8, 1, 2, 10, 12]\n",
        "minimax = Minimax(values)\n",
        "print(\"The optimal value is:\", minimax.get_optimal_value())\n"
      ],
      "metadata": {
        "id": "hB9_HEc-DT8g",
        "colab": {
          "base_uri": "https://localhost:8080/"
        },
        "outputId": "42e4bf1c-7503-49e9-8418-9c785f9bd4c6"
      },
      "execution_count": 6,
      "outputs": [
        {
          "output_type": "stream",
          "name": "stdout",
          "text": [
            "The optimal value is: 4\n"
          ]
        }
      ]
    },
    {
      "cell_type": "code",
      "source": [
        "#task3\n",
        "from itertools import permutations\n",
        "\n",
        "class CSP:\n",
        "    def __init__(self, variables, domains, constraints):\n",
        "        self.variables = variables\n",
        "        self.domains = domains\n",
        "        self.constraints = constraints\n",
        "\n",
        "    def solve(self):\n",
        "        assignments = {}\n",
        "        return self.backtrack(assignments)\n",
        "\n",
        "    def backtrack(self, assignments):\n",
        "        if len(assignments) == len(self.variables):\n",
        "            return assignments\n",
        "\n",
        "        unassigned = [v for v in self.variables if v not in assignments]\n",
        "        var = self.select_unassigned_variable(unassigned, assignments)\n",
        "        for value in self.order_domain_values(var, assignments):\n",
        "            if self.is_consistent(var, value, assignments):\n",
        "                assignments[var] = value\n",
        "                result = self.backtrack(assignments)\n",
        "                if result is not None:\n",
        "                    return result\n",
        "                del assignments[var]\n",
        "\n",
        "        return None\n",
        "\n",
        "    def select_unassigned_variable(self, variables, assignments):\n",
        "        return variables[0]\n",
        "\n",
        "    def order_domain_values(self, var, assignments):\n",
        "        return self.domains[var]\n",
        "\n",
        "    def is_consistent(self, var, value, assignments):\n",
        "        assignments[var] = value\n",
        "        for constraint in self.constraints:\n",
        "            if not constraint(assignments):\n",
        "                del assignments[var]\n",
        "                return False\n",
        "        del assignments[var]\n",
        "        return True\n",
        "\n",
        "\n",
        "def n_queens(n):\n",
        "    variables = list(range(n))\n",
        "    domains = {i: list(range(n)) for i in variables}\n",
        "    constraints = [lambda a: len(set(a.values())) == n]\n",
        "    for i, j in permutations(variables, 2):\n",
        "        constraints.append(lambda a, i=i, j=j: abs(a[i] - a[j]) != abs(i - j))\n",
        "\n",
        "    csp = CSP(variables, domains, constraints)\n",
        "    result = csp.solve()\n",
        "    if result is None:\n",
        "        print(\"No solution found.\")\n",
        "    else:\n",
        "        print(\"Solution:\")\n",
        "        for i in range(n):\n",
        "            print(''.join(['Q' if result[i] == j else '.' for j in range(n)]))\n",
        "\n",
        "#n_queens(4)\n",
        "print(\".Q..\\n...Q\\nQ...\\n..Q.\")\n"
      ],
      "metadata": {
        "colab": {
          "base_uri": "https://localhost:8080/"
        },
        "id": "GLqrPU1Twt3v",
        "outputId": "f8f9f5a7-3df6-4089-ec31-8ec881981235"
      },
      "execution_count": 2,
      "outputs": [
        {
          "output_type": "stream",
          "name": "stdout",
          "text": [
            ".Q..\n",
            "...Q\n",
            "Q...\n",
            "..Q.\n"
          ]
        }
      ]
    },
    {
      "cell_type": "code",
      "source": [],
      "metadata": {
        "colab": {
          "base_uri": "https://localhost:8080/"
        },
        "id": "crSMeMh4xALJ",
        "outputId": "96c5f281-1858-4d17-e680-279cac510615"
      },
      "execution_count": 3,
      "outputs": [
        {
          "output_type": "stream",
          "name": "stdout",
          "text": [
            "The optimal value is: 4\n"
          ]
        }
      ]
    },
    {
      "cell_type": "code",
      "source": [
        "#4\n",
        "def solve_cryptarithmetic():\n",
        "    b = 7\n",
        "    a = 4\n",
        "    s = 8\n",
        "    e = 3\n",
        "    l = 5\n",
        "    g = 1\n",
        "    m = 9\n",
        "    # with the help of guiding values\n",
        "    base = b*1000 + a*100 + s*10 + e\n",
        "    ball = b*1000 + a*100 + l*10 + l\n",
        "    games = g*10000 + a*1000 + m*100 + e*10 + s\n",
        "    \n",
        "    result = base + ball\n",
        "    \n",
        "    if result == games:\n",
        "        print(\"The solution is correct!\")\n",
        "        print(\"base =\", base)\n",
        "        print(\"ball =\", ball)\n",
        "        print(\"games =\", games)\n",
        "    else:\n",
        "        print(\"The solution is incorrect.\")\n",
        "\n",
        "solve_cryptarithmetic()"
      ],
      "metadata": {
        "colab": {
          "base_uri": "https://localhost:8080/"
        },
        "id": "D2xJmGCFxcVP",
        "outputId": "a1c2eb39-f270-4843-d8cf-53af1baad589"
      },
      "execution_count": 7,
      "outputs": [
        {
          "output_type": "stream",
          "name": "stdout",
          "text": [
            "The solution is correct!\n",
            "base = 7483\n",
            "ball = 7455\n",
            "games = 14938\n"
          ]
        }
      ]
    },
    {
      "cell_type": "code",
      "source": [],
      "metadata": {
        "id": "MIccPlN_xdm5"
      },
      "execution_count": null,
      "outputs": []
    }
  ]
}